{
 "cells": [
  {
   "cell_type": "code",
   "execution_count": 2,
   "metadata": {},
   "outputs": [],
   "source": [
    "import pandas as pd\n",
    "\n",
    "ratings = pd.read_csv('/Users/praneethjakkala/Documents/Recommendation system/movies/ml-25m/ratings.csv')\n",
    "movies = pd.read_csv('/Users/praneethjakkala/Documents/Recommendation system/movies/ml-25m/movies.csv')\n",
    "tags = pd.read_csv('/Users/praneethjakkala/Documents/Recommendation system/movies/ml-25m/tags.csv')\n",
    "genome_scores = pd.read_csv('/Users/praneethjakkala/Documents/Recommendation system/movies/ml-25m/genome-scores.csv')\n",
    "genome_tags = pd.read_csv('/Users/praneethjakkala/Documents/Recommendation system/movies/ml-25m/genome-tags.csv')"
   ]
  },
  {
   "cell_type": "code",
   "execution_count": 3,
   "metadata": {},
   "outputs": [],
   "source": [
    "movie_ratings = pd.merge(ratings,movies, on = 'movieId')"
   ]
  },
  {
   "cell_type": "code",
   "execution_count": 5,
   "metadata": {},
   "outputs": [
    {
     "data": {
      "text/plain": [
       "title\n",
       "Full of Grace (2015)              5.0\n",
       "Geordie (1955)                    5.0\n",
       "Garfield In Paradise (1986)       5.0\n",
       "Lost Woods (2012)                 5.0\n",
       "Garfield in the Rough (1984)      5.0\n",
       "Lost Time (2014)                  5.0\n",
       "Who Killed Chea Vichea? (2010)    5.0\n",
       "Lost Rivers (2013)                5.0\n",
       "Who Killed Johnny (2013)          5.0\n",
       "Generation Baby Buster (2011)     5.0\n",
       "Name: rating, dtype: float64"
      ]
     },
     "execution_count": 5,
     "metadata": {},
     "output_type": "execute_result"
    }
   ],
   "source": [
    "avg_ratings = movie_ratings.groupby('title')['rating'].mean()\n",
    "\n",
    "top_movies = avg_ratings.sort_values(ascending = False).head(10)\n",
    "top_movies\n"
   ]
  }
 ],
 "metadata": {
  "kernelspec": {
   "display_name": "base",
   "language": "python",
   "name": "python3"
  },
  "language_info": {
   "codemirror_mode": {
    "name": "ipython",
    "version": 3
   },
   "file_extension": ".py",
   "mimetype": "text/x-python",
   "name": "python",
   "nbconvert_exporter": "python",
   "pygments_lexer": "ipython3",
   "version": "3.11.3"
  },
  "orig_nbformat": 4
 },
 "nbformat": 4,
 "nbformat_minor": 2
}
